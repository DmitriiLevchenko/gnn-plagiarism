{
 "cells": [
  {
   "cell_type": "code",
   "execution_count": null,
   "metadata": {},
   "outputs": [],
   "source": [
    "import random"
   ]
  },
  {
   "cell_type": "code",
   "execution_count": 1,
   "metadata": {},
   "outputs": [
    {
     "ename": "IndentationError",
     "evalue": "unexpected indent (2462770235.py, line 30)",
     "output_type": "error",
     "traceback": [
      "\u001b[1;36m  Cell \u001b[1;32mIn[1], line 30\u001b[1;36m\u001b[0m\n\u001b[1;33m    snippets = []\u001b[0m\n\u001b[1;37m    ^\u001b[0m\n\u001b[1;31mIndentationError\u001b[0m\u001b[1;31m:\u001b[0m unexpected indent\n"
     ]
    }
   ],
   "source": [
    "class CodeSnippet:\n",
    "    def __init__(self, code, is_plagiarized):\n",
    "        self.code = code\n",
    "        self.is_plagiarized = is_plagiarized\n",
    "\n",
    "def mutate_code(code):\n",
    "    # Pseudo-function to simulate code mutations\n",
    "    # For example, replace print with a similar function or add redundant operations\n",
    "    mutations = [\n",
    "        code.replace(\"print\", \"echo\"),  # Example for a different language or pseudo-code\n",
    "        code + \"\\n# Adding a redundant comment\",\n",
    "        \" \".join(random.sample(code.split(), len(code.split())))  # Shuffle words\n",
    "    ]\n",
    "    return random.choice(mutations)\n",
    "\n",
    "def generate_code_snippets():\n",
    "    base_snippets = [\n",
    "    \"print('Hello, world!')\",\n",
    "    \"for i in range(5): print(i)\",\n",
    "    \"if x > 0: print('x is positive')\",\n",
    "    \"my_list = [1, 2, 3, 4]; print(sum(my_list))\",\n",
    "    \"def greet(name): return 'Hello, ' + name\",\n",
    "    \"class MyClass: def method(self): return 'instance method called'\",\n",
    "    \"try: x = 1 / 0 except ZeroDivisionError: print('Error')\",\n",
    "    \"with open('file.txt', 'r') as f: contents = f.read()\",\n",
    "    \"import math; print(math.sqrt(16))\",\n",
    "    \"for letter in 'Python': if letter == 'h': break; print('Current Letter :', letter)\",\n",
    "    \"def calculate_area(radius): return 3.14 * radius * radius\",\n",
    "    \"lambda_function = lambda x, y: x * y\",\n",
    "    \"list_comprehension = [n**2 for n in range(10) if n%2 == 0]\",\n",
    "    \"async def fetch_data(url): return await requests.get(url)\",\n",
    "    \"list(filter(lambda x: x % 2 == 0, range(10)))\",\n",
    "    \"dict_variable = {'key1': 'value1', 'key2': 'value2'}\",\n",
    "    \"import os; os.listdir('.')\",\n",
    "    \"sorted([5, 2, 3, 1, 4])\",\n",
    "    \"json.dumps({'name': 'John', 'age': 30})\",\n",
    "    \"from datetime import datetime; datetime.now().isoformat()\"\n",
    "    ]\n",
    "    snippets = []\n",
    "    for base_code in base_snippets:\n",
    "        # Original snippet, not plagiarized\n",
    "        snippets.append(CodeSnippet(base_code, False))\n",
    "        # Mutated (plagiarized) snippet\n",
    "        plagiarized_code = mutate_code(base_code)\n",
    "        snippets.append(CodeSnippet(plagiarized_code, True))\n",
    "    \n",
    "    return snippets"
   ]
  },
  {
   "cell_type": "code",
   "execution_count": null,
   "metadata": {},
   "outputs": [],
   "source": [
    "def generate_mutations(base_snippets, num_mutations=10):\n",
    "    original_snippets = []\n",
    "    mutated_snippets = []\n",
    "    \n",
    "    for base_code in base_snippets:\n",
    "        original_snippets.append(CodeSnippet(base_code, False))\n",
    "        for _ in range(num_mutations):\n",
    "            mutated_code = mutate_code(base_code)\n",
    "            mutated_snippets.append(CodeSnippet(mutated_code, True))\n",
    "    \n",
    "    return original_snippets, mutated_snippets\n",
    "\n",
    "originals, mutations = generate_mutations(base_snippets, 10)"
   ]
  }
 ],
 "metadata": {
  "kernelspec": {
   "display_name": ".venv",
   "language": "python",
   "name": "python3"
  },
  "language_info": {
   "codemirror_mode": {
    "name": "ipython",
    "version": 3
   },
   "file_extension": ".py",
   "mimetype": "text/x-python",
   "name": "python",
   "nbconvert_exporter": "python",
   "pygments_lexer": "ipython3",
   "version": "3.12.2"
  }
 },
 "nbformat": 4,
 "nbformat_minor": 2
}
